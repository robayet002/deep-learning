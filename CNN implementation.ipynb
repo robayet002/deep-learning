{
  "nbformat": 4,
  "nbformat_minor": 0,
  "metadata": {
    "colab": {
      "provenance": []
    },
    "kernelspec": {
      "name": "python3",
      "display_name": "Python 3"
    },
    "language_info": {
      "name": "python"
    }
  },
  "cells": [
    {
      "cell_type": "code",
      "execution_count": 1,
      "metadata": {
        "id": "Tf4iQXXiEF1-"
      },
      "outputs": [],
      "source": [
        "import tensorflow\n",
        "import matplotlib.pyplot as plt\n",
        "import seaborn as sns\n",
        "from keras.datasets import mnist\n",
        "import numpy as np\n",
        "import sklearn"
      ]
    },
    {
      "cell_type": "code",
      "source": [
        "(x_train, y_train), (x_test, y_test) = mnist.load_data()"
      ],
      "metadata": {
        "colab": {
          "base_uri": "https://localhost:8080/"
        },
        "id": "hhStjz9yFLVw",
        "outputId": "e5d08c2a-f157-4a4d-e160-48a6128a4630"
      },
      "execution_count": 2,
      "outputs": [
        {
          "output_type": "stream",
          "name": "stdout",
          "text": [
            "Downloading data from https://storage.googleapis.com/tensorflow/tf-keras-datasets/mnist.npz\n",
            "11490434/11490434 [==============================] - 0s 0us/step\n"
          ]
        }
      ]
    },
    {
      "cell_type": "code",
      "source": [
        "x_train.shape"
      ],
      "metadata": {
        "colab": {
          "base_uri": "https://localhost:8080/"
        },
        "id": "A6FW87eHFYmv",
        "outputId": "321af9ab-b5a2-49cc-9112-2653aa32e9ae"
      },
      "execution_count": 3,
      "outputs": [
        {
          "output_type": "execute_result",
          "data": {
            "text/plain": [
              "(60000, 28, 28)"
            ]
          },
          "metadata": {},
          "execution_count": 3
        }
      ]
    },
    {
      "cell_type": "code",
      "source": [
        "y_train.shape"
      ],
      "metadata": {
        "colab": {
          "base_uri": "https://localhost:8080/"
        },
        "id": "09PuBcGiF_L6",
        "outputId": "0e421ae3-8e1c-45b4-fcfe-174b39604788"
      },
      "execution_count": 4,
      "outputs": [
        {
          "output_type": "execute_result",
          "data": {
            "text/plain": [
              "(60000,)"
            ]
          },
          "metadata": {},
          "execution_count": 4
        }
      ]
    },
    {
      "cell_type": "code",
      "source": [
        "x_train.min(), x_train.max()"
      ],
      "metadata": {
        "colab": {
          "base_uri": "https://localhost:8080/"
        },
        "id": "dE0PZDkVGCNw",
        "outputId": "79f962f5-f451-43a4-cf05-462eb911aaec"
      },
      "execution_count": 5,
      "outputs": [
        {
          "output_type": "execute_result",
          "data": {
            "text/plain": [
              "(0, 255)"
            ]
          },
          "metadata": {},
          "execution_count": 5
        }
      ]
    },
    {
      "cell_type": "code",
      "source": [
        "x_train = x_train / 255.0\n",
        "x_test = x_test / 255.0"
      ],
      "metadata": {
        "id": "txE6y-nAGIqY"
      },
      "execution_count": 6,
      "outputs": []
    },
    {
      "cell_type": "code",
      "source": [
        "idx = 1\n",
        "img = x_train[idx]\n",
        "label = y_train[idx]\n",
        "\n",
        "# Plot image with class label\n",
        "plt.imshow(img, cmap=\"binary\")\n",
        "plt.title(f\"{label}\")\n",
        "plt.show()"
      ],
      "metadata": {
        "colab": {
          "base_uri": "https://localhost:8080/",
          "height": 452
        },
        "id": "euwG-VHtGM7q",
        "outputId": "8d22efe2-f7e3-46fc-82bc-a8caddbcb546"
      },
      "execution_count": 7,
      "outputs": [
        {
          "output_type": "display_data",
          "data": {
            "text/plain": [
              "<Figure size 640x480 with 1 Axes>"
            ],
            "image/png": "[encoded data removed]"
          },
          "metadata": {}
        }
      ]
    },
    {
      "cell_type": "code",
      "source": [
        "\n",
        "import tensorflow as tf\n",
        "from tensorflow import keras\n",
        "from keras import layers, models\n",
        "def build_model():\n",
        "  # Create a sequential model\n",
        "  model = models.Sequential()\n",
        "  # Add Convolutional layers\n",
        "  model.add(layers.Conv2D(8, (3, 3), activation='relu', input_shape=(28, 28,1)))\n",
        "  model.add(layers.MaxPooling2D((3, 3)))\n",
        "  model.add(layers.Conv2D(16, (3, 3), activation='relu', input_shape=(14, 14,1)))\n",
        "  model.add(layers.MaxPooling2D((3, 3)))\n",
        "  model.add(layers.Conv2D(32, (2, 2), activation='relu',input_shape=(7, 7,1)))\n",
        "  # Flatten the output for dense layers\n",
        "  model.add(layers.Flatten())\n",
        "  # Add Dense layers\n",
        "  model.add(layers.Dense(128, activation='relu'))\n",
        "  model.add(layers.Dropout(.2))\n",
        "  model.add(layers.Dense(10,activation='softmax'))\n",
        "  return model\n",
        "model = build_model()\n",
        "model.summary()\n"
      ],
      "metadata": {
        "colab": {
          "base_uri": "https://localhost:8080/"
        },
        "id": "wWc6EQ2yGXsI",
        "outputId": "b6f4361d-575d-4e16-899f-8b6daef09288"
      },
      "execution_count": 24,
      "outputs": [
        {
          "output_type": "stream",
          "name": "stdout",
          "text": [
            "Model: \"sequential_6\"\n",
            "_________________________________________________________________\n",
            " Layer (type)                Output Shape              Param #   \n",
            "=================================================================\n",
            " conv2d_16 (Conv2D)          (None, 26, 26, 8)         80        \n",
            "                                                                 \n",
            " max_pooling2d_10 (MaxPooli  (None, 8, 8, 8)           0         \n",
            " ng2D)                                                           \n",
            "                                                                 \n",
            " conv2d_17 (Conv2D)          (None, 6, 6, 16)          1168      \n",
            "                                                                 \n",
            " max_pooling2d_11 (MaxPooli  (None, 2, 2, 16)          0         \n",
            " ng2D)                                                           \n",
            "                                                                 \n",
            " conv2d_18 (Conv2D)          (None, 1, 1, 32)          2080      \n",
            "                                                                 \n",
            " flatten_3 (Flatten)         (None, 32)                0         \n",
            "                                                                 \n",
            " dense_4 (Dense)             (None, 128)               4224      \n",
            "                                                                 \n",
            " dropout_2 (Dropout)         (None, 128)               0         \n",
            "                                                                 \n",
            " dense_5 (Dense)             (None, 10)                1290      \n",
            "                                                                 \n",
            "=================================================================\n",
            "Total params: 8842 (34.54 KB)\n",
            "Trainable params: 8842 (34.54 KB)\n",
            "Non-trainable params: 0 (0.00 Byte)\n",
            "_________________________________________________________________\n"
          ]
        }
      ]
    },
    {
      "cell_type": "code",
      "source": [
        "from keras import optimizers\n",
        "opt = optimizers.SGD(learning_rate=0.01)\n",
        "model.compile(optimizer=\"adam\",\n",
        "              loss=\"sparse_categorical_crossentropy\",\n",
        "              metrics=[\"acc\"])"
      ],
      "metadata": {
        "id": "LfwVRJ9fOSZM"
      },
      "execution_count": 26,
      "outputs": []
    },
    {
      "cell_type": "code",
      "source": [
        "from sklearn.model_selection import train_test_split\n",
        "# Split into 80% training and 20% validation set\n",
        "x_train, x_val, y_train, y_val = train_test_split(x_train, y_train, test_size=0.2)\n",
        "print(x_train.shape)\n",
        "print(x_val.shape)"
      ],
      "metadata": {
        "colab": {
          "base_uri": "https://localhost:8080/"
        },
        "id": "eY-KNgYZTKY1",
        "outputId": "06f9963e-af68-41a7-b573-43c091150929"
      },
      "execution_count": 27,
      "outputs": [
        {
          "output_type": "stream",
          "name": "stdout",
          "text": [
            "(38400, 28, 28)\n",
            "(9600, 28, 28)\n"
          ]
        }
      ]
    },
    {
      "cell_type": "code",
      "source": [
        "# Train the model\n",
        "history = model.fit(x_train, y_train, validation_data=(x_val, y_val), epochs=10)"
      ],
      "metadata": {
        "colab": {
          "base_uri": "https://localhost:8080/"
        },
        "id": "REg1E-bjTT8x",
        "outputId": "0285bdb1-96ef-4ac8-9a7e-f52d62617322"
      },
      "execution_count": 28,
      "outputs": [
        {
          "output_type": "stream",
          "name": "stdout",
          "text": [
            "Epoch 1/10\n",
            "1200/1200 [==============================] - 16s 13ms/step - loss: 0.4746 - acc: 0.8471 - val_loss: 0.1549 - val_acc: 0.9524\n",
            "Epoch 2/10\n",
            "1200/1200 [==============================] - 15s 12ms/step - loss: 0.1559 - acc: 0.9505 - val_loss: 0.1188 - val_acc: 0.9656\n",
            "Epoch 3/10\n",
            "1200/1200 [==============================] - 15s 12ms/step - loss: 0.1213 - acc: 0.9620 - val_loss: 0.0990 - val_acc: 0.9701\n",
            "Epoch 4/10\n",
            "1200/1200 [==============================] - 14s 12ms/step - loss: 0.1010 - acc: 0.9685 - val_loss: 0.0867 - val_acc: 0.9723\n",
            "Epoch 5/10\n",
            "1200/1200 [==============================] - 16s 13ms/step - loss: 0.0886 - acc: 0.9721 - val_loss: 0.0797 - val_acc: 0.9760\n",
            "Epoch 6/10\n",
            "1200/1200 [==============================] - 16s 13ms/step - loss: 0.0775 - acc: 0.9761 - val_loss: 0.0802 - val_acc: 0.9757\n",
            "Epoch 7/10\n",
            "1200/1200 [==============================] - 15s 13ms/step - loss: 0.0710 - acc: 0.9773 - val_loss: 0.0699 - val_acc: 0.9792\n",
            "Epoch 8/10\n",
            "1200/1200 [==============================] - 14s 12ms/step - loss: 0.0653 - acc: 0.9793 - val_loss: 0.0738 - val_acc: 0.9761\n",
            "Epoch 9/10\n",
            "1200/1200 [==============================] - 16s 13ms/step - loss: 0.0609 - acc: 0.9801 - val_loss: 0.0765 - val_acc: 0.9755\n",
            "Epoch 10/10\n",
            "1200/1200 [==============================] - 15s 13ms/step - loss: 0.0562 - acc: 0.9824 - val_loss: 0.0640 - val_acc: 0.9795\n"
          ]
        }
      ]
    },
    {
      "cell_type": "code",
      "source": [
        "# Plot accuracy\n",
        "plt.figure(figsize=(5, 3))\n",
        "plt.plot(history.history[\"loss\"],linestyle='dashed', marker='o',label=\"training loss\")\n",
        "plt.xlabel(\"epochs\")\n",
        "plt.ylabel('loss')\n",
        "plt.legend()\n",
        "plt.show()"
      ],
      "metadata": {
        "colab": {
          "base_uri": "https://localhost:8080/",
          "height": 311
        },
        "id": "dVivTY1ETZ36",
        "outputId": "fd9d1c39-552b-4dd7-8afb-d57581678072"
      },
      "execution_count": 29,
      "outputs": [
        {
          "output_type": "display_data",
          "data": {
            "text/plain": [
              "<Figure size 500x300 with 1 Axes>"
            ],
            "image/png": "[encoded data removed]"
          },
          "metadata": {}
        }
      ]
    },
    {
      "cell_type": "code",
      "source": [
        "# Plot loss\n",
        "plt.figure(figsize=(4, 3))\n",
        "plt.plot(history.history[\"loss\"], label=\"training loss\")\n",
        "plt.plot(history.history[\"val_loss\"], label=\"validation loss\")\n",
        "plt.legend()\n",
        "plt.xlabel(\"epochs\")\n",
        "plt.show()"
      ],
      "metadata": {
        "colab": {
          "base_uri": "https://localhost:8080/",
          "height": 311
        },
        "id": "B0J8e7EoWx8c",
        "outputId": "2e0de364-9852-416b-db88-f5142a5abc4d"
      },
      "execution_count": 30,
      "outputs": [
        {
          "output_type": "display_data",
          "data": {
            "text/plain": [
              "<Figure size 400x300 with 1 Axes>"
            ],
            "image/png": "[encoded data removed]"
          },
          "metadata": {}
        }
      ]
    },
    {
      "cell_type": "code",
      "source": [
        "# Get accuracy for test dataset\n",
        "test_loss, test_acc = model.evaluate(x_test, y_test)\n",
        "test_acc *= 100\n",
        "\n",
        "print(f\"Test accuracy: {test_acc:.2f}%\")"
      ],
      "metadata": {
        "colab": {
          "base_uri": "https://localhost:8080/"
        },
        "id": "X4HMIMGMXRod",
        "outputId": "fe41c59d-ffa1-45a3-ad36-88548a32ed11"
      },
      "execution_count": 31,
      "outputs": [
        {
          "output_type": "stream",
          "name": "stdout",
          "text": [
            "313/313 [==============================] - 2s 5ms/step - loss: 0.0506 - acc: 0.9829\n",
            "Test accuracy: 98.29%\n"
          ]
        }
      ]
    },
    {
      "cell_type": "code",
      "source": [],
      "metadata": {
        "id": "uAAlM9zZXSia"
      },
      "execution_count": null,
      "outputs": []
    }
  ]
}